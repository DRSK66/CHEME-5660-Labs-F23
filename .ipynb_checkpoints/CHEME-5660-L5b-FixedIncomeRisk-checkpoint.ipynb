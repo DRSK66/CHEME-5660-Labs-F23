{
 "cells": [
  {
   "cell_type": "markdown",
   "id": "5a80809b-f983-47b3-90d8-55364dce2c6c",
   "metadata": {},
   "source": [
    "## Lab 5b: Fixed Income Interest Rate Risk and Malkiel Pricing Rules\n",
    "Fill me in\n",
    "\n",
    "* __Theorem 1__: Bond prices move inversely to bond yields.\n",
    "* __Theorem 2__: For a given change in yield from the nominal yield, changes in bond prices are greater the longer the term to maturity. \n",
    "* __Theorem 3__: The percentage price changes described in Theorem 2 increase at a diminishing rate as N increases. \n",
    "* __Theorem 4__: Price movements resulting from equal absolute increases and decreases in yield are asymmetric; i.e., decreasing yields raises bond prices more than the same increase in yields lowers prices.\n",
    "* __Theorem 5__: The higher the coupon carried by the bond, the smaller the percentage price fluctuation for a given change in yield, except for one-year securities\n",
    "\n",
    "### Learning Objectives and Tasks\n",
    "Fill me in"
   ]
  },
  {
   "cell_type": "markdown",
   "id": "64afa78b-d968-452a-881c-0a4792390f43",
   "metadata": {},
   "source": [
    "### Setup\n",
    "We load the [VLQuantitativeFinancePackage.jl](https://github.com/varnerlab/VLQuantitativeFinancePackage.jl) package, and several other external [Julia](https://julialang.org/downloads/https://julialang.org/downloads/) packages, as well as some helper code, by calling the [include(...)](https://docs.julialang.org/en/v1/manual/code-loading/https://docs.julialang.org/en/v1/manual/code-loading/) command on the file `Include.jl`:"
   ]
  },
  {
   "cell_type": "code",
   "execution_count": 1,
   "id": "ce1b2197-7fcb-46ff-9f7e-f6f03b823343",
   "metadata": {
    "tags": []
   },
   "outputs": [
    {
     "name": "stderr",
     "output_type": "stream",
     "text": [
      "\u001b[32m\u001b[1m  Activating\u001b[22m\u001b[39m project at `~/Desktop/julia_work/CHEME-5660-Labs-F23`\n",
      "\u001b[32m\u001b[1m  No Changes\u001b[22m\u001b[39m to `~/Desktop/julia_work/CHEME-5660-Labs-F23/Project.toml`\n",
      "\u001b[32m\u001b[1m  No Changes\u001b[22m\u001b[39m to `~/Desktop/julia_work/CHEME-5660-Labs-F23/Manifest.toml`\n",
      "\u001b[32m\u001b[1mPrecompiling\u001b[22m\u001b[39m project...\n",
      "\u001b[32m  ✓ \u001b[39mCSV\n",
      "\u001b[32m  ✓ \u001b[39mVLQuantitativeFinancePackage\n",
      "  2 dependencies successfully precompiled in 14 seconds. 235 already precompiled.\n",
      "\u001b[32m\u001b[1m    Updating\u001b[22m\u001b[39m registry at `~/.julia/registries/General.toml`\n",
      "\u001b[32m\u001b[1m    Updating\u001b[22m\u001b[39m git-repo `https://github.com/varnerlab/VLQuantitativeFinancePackage.jl`\n",
      "\u001b[32m\u001b[1m  No Changes\u001b[22m\u001b[39m to `~/Desktop/julia_work/CHEME-5660-Labs-F23/Project.toml`\n",
      "\u001b[32m\u001b[1m  No Changes\u001b[22m\u001b[39m to `~/Desktop/julia_work/CHEME-5660-Labs-F23/Manifest.toml`\n"
     ]
    }
   ],
   "source": [
    "include(\"Include.jl\");"
   ]
  },
  {
   "cell_type": "code",
   "execution_count": 4,
   "id": "b82c35e1-9885-4b35-aa51-99b94f9428de",
   "metadata": {
    "tags": []
   },
   "outputs": [],
   "source": [
    "discount_model = DiscreteCompoundingModel();"
   ]
  },
  {
   "cell_type": "markdown",
   "id": "e80eb1f3-0edd-4402-bf48-57090eea9140",
   "metadata": {},
   "source": [
    "### Historical Treasury Auction Data\n",
    "We'll explore `T-Bill`, `T-note` and `T-bond` prices from United States Treasury auctions in `2022` and `2023` downloaded using the [Auction query functionality of TreasuryDirect.gov](https://www.treasurydirect.gov/auctions/auction-query/). We load the `CSV` dataset using the `MyTreasuryBillDataSet()` and `MyTreasuryNotesAndBondsDataSet()` functions, which return the auction datasets as `DataFrame` instances, see [DataFrames.jl](https://github.com/JuliaData/DataFrames.jl) for a background on working with `DataFrames`:"
   ]
  },
  {
   "cell_type": "code",
   "execution_count": 3,
   "id": "652ea6bd-d745-4a73-b0e9-b4bc48323174",
   "metadata": {},
   "outputs": [],
   "source": [
    "bill_dataset = MyTreasuryBillDataSet();\n",
    "notes_bonds_dataset = MyTreasuryNotesAndBondsDataSet();"
   ]
  },
  {
   "cell_type": "markdown",
   "id": "32f881a7-0aff-45d1-bdf1-71b3f90a47b4",
   "metadata": {},
   "source": [
    "## Test Theorem 1 using a Zero-Coupon Treasury Bill"
   ]
  },
  {
   "cell_type": "markdown",
   "id": "b69f852c-dde3-4c8b-9451-21447a1efade",
   "metadata": {},
   "source": [
    "First, let's build a model of the zero-coupon Treasury bill, which is a `MyUSTreasuryZeroCouponBondModel` instance, and check that the predicted price is consistent with the observed auction price. Then, we will vary the parameters of the zero-coupon Treasury bill to test whether `Theorem 1` holds. How many Bills do we have in the `bill_dataset`:"
   ]
  },
  {
   "cell_type": "code",
   "execution_count": 8,
   "id": "29154184-cf34-47ef-8088-ace71de12839",
   "metadata": {
    "tags": []
   },
   "outputs": [
    {
     "data": {
      "text/plain": [
       "96"
      ]
     },
     "execution_count": 8,
     "metadata": {},
     "output_type": "execute_result"
    }
   ],
   "source": [
    "number_of_bills = nrow(bill_dataset)"
   ]
  },
  {
   "cell_type": "markdown",
   "id": "002d30b9-bd86-4ac3-8b11-950dfbdebb3c",
   "metadata": {},
   "source": [
    "To create an instance of the `MyUSTreasuryZeroCouponBondModel` model, we will use the `build(...)` method and assume a par value of `100 USD` with two compounding periods per year. These values will be passed as arguments to the `build(...)` method in the `par` and `n` parameters. The resulting zero-coupon model will be stored in the `model` variable:"
   ]
  },
  {
   "cell_type": "code",
   "execution_count": 5,
   "id": "9bb8aa11-9aaf-465b-b1cb-dbed72908c5c",
   "metadata": {
    "tags": []
   },
   "outputs": [],
   "source": [
    "zero_coupon_model = build(MyUSTreasuryZeroCouponBondModel, (\n",
    "    par = 100.0, n = 2\n",
    "));"
   ]
  },
  {
   "cell_type": "markdown",
   "id": "99287bd4-b1d2-42cb-9cd1-9c0f72b95461",
   "metadata": {},
   "source": [
    "Next, select a random bill from the dataset, set the parameters on the `zero_coupon_model` instance, and compute the bond price $V_{B}$:"
   ]
  },
  {
   "cell_type": "code",
   "execution_count": 7,
   "id": "6bf69f4a-d17e-4575-8cfe-809a08eaa11e",
   "metadata": {
    "tags": []
   },
   "outputs": [],
   "source": [
    "random_bill_index = 10; # 1 -> number_of_bills"
   ]
  },
  {
   "cell_type": "code",
   "execution_count": null,
   "id": "69a37593-3301-4943-a231-fc86ce07348a",
   "metadata": {},
   "outputs": [],
   "source": []
  }
 ],
 "metadata": {
  "kernelspec": {
   "display_name": "Julia 1.9.3",
   "language": "julia",
   "name": "julia-1.9"
  },
  "language_info": {
   "file_extension": ".jl",
   "mimetype": "application/julia",
   "name": "julia",
   "version": "1.9.3"
  }
 },
 "nbformat": 4,
 "nbformat_minor": 5
}
