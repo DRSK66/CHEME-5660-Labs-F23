{
 "cells": [
  {
   "cell_type": "code",
   "execution_count": null,
   "id": "757d4801-265c-4932-8580-e821c2421301",
   "metadata": {},
   "outputs": [],
   "source": []
  }
 ],
 "metadata": {
  "kernelspec": {
   "display_name": "Julia 1.9.1",
   "language": "julia",
   "name": "julia-1.9"
  },
  "language_info": {
   "file_extension": ".jl",
   "mimetype": "application/julia",
   "name": "julia",
   "version": "1.9.2"
  }
 },
 "nbformat": 4,
 "nbformat_minor": 5
}
